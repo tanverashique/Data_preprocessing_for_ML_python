{
 "cells": [
  {
   "cell_type": "code",
   "execution_count": 48,
   "id": "2b0948e3",
   "metadata": {},
   "outputs": [],
   "source": [
    "import pandas as pd"
   ]
  },
  {
   "cell_type": "code",
   "execution_count": 49,
   "id": "6e5f17c2",
   "metadata": {},
   "outputs": [],
   "source": [
    "friends_s1 = pd.DataFrame({\"character\":[\"RG\", \"RoG\", \"PB\", \"JT\", \"MG\", \"CB\"], \"name\":[\"JA\", \"DS\", \"LK\", \"ML\", \"CC\", \"MP\"], \"BD\": [\"1969-02-11\", \"1966-11-02\", \"1963-07-30\", \"1967-07-25\", \"1964-06-15\", \"1969-08-19\"]})"
   ]
  },
  {
   "cell_type": "code",
   "execution_count": 50,
   "id": "effd8437",
   "metadata": {},
   "outputs": [
    {
     "data": {
      "text/html": [
       "<div>\n",
       "<style scoped>\n",
       "    .dataframe tbody tr th:only-of-type {\n",
       "        vertical-align: middle;\n",
       "    }\n",
       "\n",
       "    .dataframe tbody tr th {\n",
       "        vertical-align: top;\n",
       "    }\n",
       "\n",
       "    .dataframe thead th {\n",
       "        text-align: right;\n",
       "    }\n",
       "</style>\n",
       "<table border=\"1\" class=\"dataframe\">\n",
       "  <thead>\n",
       "    <tr style=\"text-align: right;\">\n",
       "      <th></th>\n",
       "      <th>character</th>\n",
       "      <th>name</th>\n",
       "      <th>BD</th>\n",
       "    </tr>\n",
       "  </thead>\n",
       "  <tbody>\n",
       "    <tr>\n",
       "      <th>0</th>\n",
       "      <td>RG</td>\n",
       "      <td>JA</td>\n",
       "      <td>1969-02-11</td>\n",
       "    </tr>\n",
       "    <tr>\n",
       "      <th>1</th>\n",
       "      <td>RoG</td>\n",
       "      <td>DS</td>\n",
       "      <td>1966-11-02</td>\n",
       "    </tr>\n",
       "    <tr>\n",
       "      <th>2</th>\n",
       "      <td>PB</td>\n",
       "      <td>LK</td>\n",
       "      <td>1963-07-30</td>\n",
       "    </tr>\n",
       "    <tr>\n",
       "      <th>3</th>\n",
       "      <td>JT</td>\n",
       "      <td>ML</td>\n",
       "      <td>1967-07-25</td>\n",
       "    </tr>\n",
       "    <tr>\n",
       "      <th>4</th>\n",
       "      <td>MG</td>\n",
       "      <td>CC</td>\n",
       "      <td>1964-06-15</td>\n",
       "    </tr>\n",
       "    <tr>\n",
       "      <th>5</th>\n",
       "      <td>CB</td>\n",
       "      <td>MP</td>\n",
       "      <td>1969-08-19</td>\n",
       "    </tr>\n",
       "  </tbody>\n",
       "</table>\n",
       "</div>"
      ],
      "text/plain": [
       "  character name          BD\n",
       "0        RG   JA  1969-02-11\n",
       "1       RoG   DS  1966-11-02\n",
       "2        PB   LK  1963-07-30\n",
       "3        JT   ML  1967-07-25\n",
       "4        MG   CC  1964-06-15\n",
       "5        CB   MP  1969-08-19"
      ]
     },
     "metadata": {},
     "output_type": "display_data"
    }
   ],
   "source": [
    "display(friends_s1)"
   ]
  },
  {
   "cell_type": "code",
   "execution_count": 51,
   "id": "12e1b4ca",
   "metadata": {},
   "outputs": [],
   "source": [
    "friends_s2 = pd.DataFrame({\"character_name\": [\"RG\", \"RoG\", \"PB\", \"JT\", \"MG\", \"CB\", \"RB\", \"G\", \"EW\", \"MH\"], \"gender\": [\"f\", \"m\", \"f\", \"m\", \"f\", \"m\", \"m\", \"m\", \"f\", \"m\"]})"
   ]
  },
  {
   "cell_type": "code",
   "execution_count": 52,
   "id": "79e9ffb5",
   "metadata": {},
   "outputs": [
    {
     "data": {
      "text/html": [
       "<div>\n",
       "<style scoped>\n",
       "    .dataframe tbody tr th:only-of-type {\n",
       "        vertical-align: middle;\n",
       "    }\n",
       "\n",
       "    .dataframe tbody tr th {\n",
       "        vertical-align: top;\n",
       "    }\n",
       "\n",
       "    .dataframe thead th {\n",
       "        text-align: right;\n",
       "    }\n",
       "</style>\n",
       "<table border=\"1\" class=\"dataframe\">\n",
       "  <thead>\n",
       "    <tr style=\"text-align: right;\">\n",
       "      <th></th>\n",
       "      <th>character_name</th>\n",
       "      <th>gender</th>\n",
       "    </tr>\n",
       "  </thead>\n",
       "  <tbody>\n",
       "    <tr>\n",
       "      <th>0</th>\n",
       "      <td>RG</td>\n",
       "      <td>f</td>\n",
       "    </tr>\n",
       "    <tr>\n",
       "      <th>1</th>\n",
       "      <td>RoG</td>\n",
       "      <td>m</td>\n",
       "    </tr>\n",
       "    <tr>\n",
       "      <th>2</th>\n",
       "      <td>PB</td>\n",
       "      <td>f</td>\n",
       "    </tr>\n",
       "    <tr>\n",
       "      <th>3</th>\n",
       "      <td>JT</td>\n",
       "      <td>m</td>\n",
       "    </tr>\n",
       "    <tr>\n",
       "      <th>4</th>\n",
       "      <td>MG</td>\n",
       "      <td>f</td>\n",
       "    </tr>\n",
       "    <tr>\n",
       "      <th>5</th>\n",
       "      <td>CB</td>\n",
       "      <td>m</td>\n",
       "    </tr>\n",
       "    <tr>\n",
       "      <th>6</th>\n",
       "      <td>RB</td>\n",
       "      <td>m</td>\n",
       "    </tr>\n",
       "    <tr>\n",
       "      <th>7</th>\n",
       "      <td>G</td>\n",
       "      <td>m</td>\n",
       "    </tr>\n",
       "    <tr>\n",
       "      <th>8</th>\n",
       "      <td>EW</td>\n",
       "      <td>f</td>\n",
       "    </tr>\n",
       "    <tr>\n",
       "      <th>9</th>\n",
       "      <td>MH</td>\n",
       "      <td>m</td>\n",
       "    </tr>\n",
       "  </tbody>\n",
       "</table>\n",
       "</div>"
      ],
      "text/plain": [
       "  character_name gender\n",
       "0             RG      f\n",
       "1            RoG      m\n",
       "2             PB      f\n",
       "3             JT      m\n",
       "4             MG      f\n",
       "5             CB      m\n",
       "6             RB      m\n",
       "7              G      m\n",
       "8             EW      f\n",
       "9             MH      m"
      ]
     },
     "metadata": {},
     "output_type": "display_data"
    }
   ],
   "source": [
    "display(friends_s2)"
   ]
  },
  {
   "cell_type": "code",
   "execution_count": 53,
   "id": "513e9fe1",
   "metadata": {},
   "outputs": [],
   "source": [
    "friends_left = friends_s1.merge(friends_s2, how='left', left_on='character', right_on='character_name')"
   ]
  },
  {
   "cell_type": "code",
   "execution_count": 54,
   "id": "b96dd36f",
   "metadata": {},
   "outputs": [
    {
     "data": {
      "text/html": [
       "<div>\n",
       "<style scoped>\n",
       "    .dataframe tbody tr th:only-of-type {\n",
       "        vertical-align: middle;\n",
       "    }\n",
       "\n",
       "    .dataframe tbody tr th {\n",
       "        vertical-align: top;\n",
       "    }\n",
       "\n",
       "    .dataframe thead th {\n",
       "        text-align: right;\n",
       "    }\n",
       "</style>\n",
       "<table border=\"1\" class=\"dataframe\">\n",
       "  <thead>\n",
       "    <tr style=\"text-align: right;\">\n",
       "      <th></th>\n",
       "      <th>character</th>\n",
       "      <th>name</th>\n",
       "      <th>BD</th>\n",
       "      <th>character_name</th>\n",
       "      <th>gender</th>\n",
       "    </tr>\n",
       "  </thead>\n",
       "  <tbody>\n",
       "    <tr>\n",
       "      <th>0</th>\n",
       "      <td>RG</td>\n",
       "      <td>JA</td>\n",
       "      <td>1969-02-11</td>\n",
       "      <td>RG</td>\n",
       "      <td>f</td>\n",
       "    </tr>\n",
       "    <tr>\n",
       "      <th>1</th>\n",
       "      <td>RoG</td>\n",
       "      <td>DS</td>\n",
       "      <td>1966-11-02</td>\n",
       "      <td>RoG</td>\n",
       "      <td>m</td>\n",
       "    </tr>\n",
       "    <tr>\n",
       "      <th>2</th>\n",
       "      <td>PB</td>\n",
       "      <td>LK</td>\n",
       "      <td>1963-07-30</td>\n",
       "      <td>PB</td>\n",
       "      <td>f</td>\n",
       "    </tr>\n",
       "    <tr>\n",
       "      <th>3</th>\n",
       "      <td>JT</td>\n",
       "      <td>ML</td>\n",
       "      <td>1967-07-25</td>\n",
       "      <td>JT</td>\n",
       "      <td>m</td>\n",
       "    </tr>\n",
       "    <tr>\n",
       "      <th>4</th>\n",
       "      <td>MG</td>\n",
       "      <td>CC</td>\n",
       "      <td>1964-06-15</td>\n",
       "      <td>MG</td>\n",
       "      <td>f</td>\n",
       "    </tr>\n",
       "    <tr>\n",
       "      <th>5</th>\n",
       "      <td>CB</td>\n",
       "      <td>MP</td>\n",
       "      <td>1969-08-19</td>\n",
       "      <td>CB</td>\n",
       "      <td>m</td>\n",
       "    </tr>\n",
       "  </tbody>\n",
       "</table>\n",
       "</div>"
      ],
      "text/plain": [
       "  character name          BD character_name gender\n",
       "0        RG   JA  1969-02-11             RG      f\n",
       "1       RoG   DS  1966-11-02            RoG      m\n",
       "2        PB   LK  1963-07-30             PB      f\n",
       "3        JT   ML  1967-07-25             JT      m\n",
       "4        MG   CC  1964-06-15             MG      f\n",
       "5        CB   MP  1969-08-19             CB      m"
      ]
     },
     "metadata": {},
     "output_type": "display_data"
    }
   ],
   "source": [
    "display(friends_left)"
   ]
  },
  {
   "cell_type": "code",
   "execution_count": 55,
   "id": "44f5b03d",
   "metadata": {},
   "outputs": [],
   "source": [
    "friends_inner = friends_s1.merge(friends_s2, how='inner', left_on='character', right_on='character_name')"
   ]
  },
  {
   "cell_type": "code",
   "execution_count": 56,
   "id": "22144c86",
   "metadata": {},
   "outputs": [
    {
     "data": {
      "text/html": [
       "<div>\n",
       "<style scoped>\n",
       "    .dataframe tbody tr th:only-of-type {\n",
       "        vertical-align: middle;\n",
       "    }\n",
       "\n",
       "    .dataframe tbody tr th {\n",
       "        vertical-align: top;\n",
       "    }\n",
       "\n",
       "    .dataframe thead th {\n",
       "        text-align: right;\n",
       "    }\n",
       "</style>\n",
       "<table border=\"1\" class=\"dataframe\">\n",
       "  <thead>\n",
       "    <tr style=\"text-align: right;\">\n",
       "      <th></th>\n",
       "      <th>character</th>\n",
       "      <th>name</th>\n",
       "      <th>BD</th>\n",
       "      <th>character_name</th>\n",
       "      <th>gender</th>\n",
       "    </tr>\n",
       "  </thead>\n",
       "  <tbody>\n",
       "    <tr>\n",
       "      <th>0</th>\n",
       "      <td>RG</td>\n",
       "      <td>JA</td>\n",
       "      <td>1969-02-11</td>\n",
       "      <td>RG</td>\n",
       "      <td>f</td>\n",
       "    </tr>\n",
       "    <tr>\n",
       "      <th>1</th>\n",
       "      <td>RoG</td>\n",
       "      <td>DS</td>\n",
       "      <td>1966-11-02</td>\n",
       "      <td>RoG</td>\n",
       "      <td>m</td>\n",
       "    </tr>\n",
       "    <tr>\n",
       "      <th>2</th>\n",
       "      <td>PB</td>\n",
       "      <td>LK</td>\n",
       "      <td>1963-07-30</td>\n",
       "      <td>PB</td>\n",
       "      <td>f</td>\n",
       "    </tr>\n",
       "    <tr>\n",
       "      <th>3</th>\n",
       "      <td>JT</td>\n",
       "      <td>ML</td>\n",
       "      <td>1967-07-25</td>\n",
       "      <td>JT</td>\n",
       "      <td>m</td>\n",
       "    </tr>\n",
       "    <tr>\n",
       "      <th>4</th>\n",
       "      <td>MG</td>\n",
       "      <td>CC</td>\n",
       "      <td>1964-06-15</td>\n",
       "      <td>MG</td>\n",
       "      <td>f</td>\n",
       "    </tr>\n",
       "    <tr>\n",
       "      <th>5</th>\n",
       "      <td>CB</td>\n",
       "      <td>MP</td>\n",
       "      <td>1969-08-19</td>\n",
       "      <td>CB</td>\n",
       "      <td>m</td>\n",
       "    </tr>\n",
       "  </tbody>\n",
       "</table>\n",
       "</div>"
      ],
      "text/plain": [
       "  character name          BD character_name gender\n",
       "0        RG   JA  1969-02-11             RG      f\n",
       "1       RoG   DS  1966-11-02            RoG      m\n",
       "2        PB   LK  1963-07-30             PB      f\n",
       "3        JT   ML  1967-07-25             JT      m\n",
       "4        MG   CC  1964-06-15             MG      f\n",
       "5        CB   MP  1969-08-19             CB      m"
      ]
     },
     "metadata": {},
     "output_type": "display_data"
    }
   ],
   "source": [
    "display(friends_inner)"
   ]
  },
  {
   "cell_type": "code",
   "execution_count": 57,
   "id": "5b345074",
   "metadata": {},
   "outputs": [
    {
     "data": {
      "text/plain": [
       "(6, 5)"
      ]
     },
     "execution_count": 57,
     "metadata": {},
     "output_type": "execute_result"
    }
   ],
   "source": [
    "friends_inner.shape"
   ]
  },
  {
   "cell_type": "code",
   "execution_count": 58,
   "id": "a4e4c9fd",
   "metadata": {},
   "outputs": [],
   "source": [
    "friends_right = friends_s1.merge(friends_s2, how='right', left_on='character', right_on='character_name')"
   ]
  },
  {
   "cell_type": "code",
   "execution_count": 59,
   "id": "5407940a",
   "metadata": {},
   "outputs": [
    {
     "data": {
      "text/plain": [
       "(10, 5)"
      ]
     },
     "execution_count": 59,
     "metadata": {},
     "output_type": "execute_result"
    }
   ],
   "source": [
    "friends_right.shape"
   ]
  },
  {
   "cell_type": "code",
   "execution_count": 60,
   "id": "d5d78d22",
   "metadata": {},
   "outputs": [],
   "source": [
    "df_A = pd.DataFrame()\n",
    "df_A[\"Name\"] = [\"Kawsar\", \"Tasnim\", \"Jakir\"]\n",
    "df_A[\"Address\"] = [\"Houston\", \"Boise\", \"Tampa\"]\n",
    "df_A[\"University\"] = [\"USF\", \"BSU\", \"USF\"]"
   ]
  },
  {
   "cell_type": "code",
   "execution_count": 61,
   "id": "17bc8bc5",
   "metadata": {},
   "outputs": [
    {
     "data": {
      "text/html": [
       "<div>\n",
       "<style scoped>\n",
       "    .dataframe tbody tr th:only-of-type {\n",
       "        vertical-align: middle;\n",
       "    }\n",
       "\n",
       "    .dataframe tbody tr th {\n",
       "        vertical-align: top;\n",
       "    }\n",
       "\n",
       "    .dataframe thead th {\n",
       "        text-align: right;\n",
       "    }\n",
       "</style>\n",
       "<table border=\"1\" class=\"dataframe\">\n",
       "  <thead>\n",
       "    <tr style=\"text-align: right;\">\n",
       "      <th></th>\n",
       "      <th>Name</th>\n",
       "      <th>Address</th>\n",
       "      <th>University</th>\n",
       "    </tr>\n",
       "  </thead>\n",
       "  <tbody>\n",
       "    <tr>\n",
       "      <th>0</th>\n",
       "      <td>Kawsar</td>\n",
       "      <td>Houston</td>\n",
       "      <td>USF</td>\n",
       "    </tr>\n",
       "    <tr>\n",
       "      <th>1</th>\n",
       "      <td>Tasnim</td>\n",
       "      <td>Boise</td>\n",
       "      <td>BSU</td>\n",
       "    </tr>\n",
       "    <tr>\n",
       "      <th>2</th>\n",
       "      <td>Jakir</td>\n",
       "      <td>Tampa</td>\n",
       "      <td>USF</td>\n",
       "    </tr>\n",
       "  </tbody>\n",
       "</table>\n",
       "</div>"
      ],
      "text/plain": [
       "     Name  Address University\n",
       "0  Kawsar  Houston        USF\n",
       "1  Tasnim    Boise        BSU\n",
       "2   Jakir    Tampa        USF"
      ]
     },
     "metadata": {},
     "output_type": "display_data"
    }
   ],
   "source": [
    "display(df_A)"
   ]
  },
  {
   "cell_type": "code",
   "execution_count": 62,
   "id": "2c96a498",
   "metadata": {},
   "outputs": [
    {
     "data": {
      "text/html": [
       "<div>\n",
       "<style scoped>\n",
       "    .dataframe tbody tr th:only-of-type {\n",
       "        vertical-align: middle;\n",
       "    }\n",
       "\n",
       "    .dataframe tbody tr th {\n",
       "        vertical-align: top;\n",
       "    }\n",
       "\n",
       "    .dataframe thead th {\n",
       "        text-align: right;\n",
       "    }\n",
       "</style>\n",
       "<table border=\"1\" class=\"dataframe\">\n",
       "  <thead>\n",
       "    <tr style=\"text-align: right;\">\n",
       "      <th></th>\n",
       "      <th>Name</th>\n",
       "      <th>Department</th>\n",
       "    </tr>\n",
       "  </thead>\n",
       "  <tbody>\n",
       "    <tr>\n",
       "      <th>0</th>\n",
       "      <td>Kawsar</td>\n",
       "      <td>EEE</td>\n",
       "    </tr>\n",
       "    <tr>\n",
       "      <th>1</th>\n",
       "      <td>Tasnim</td>\n",
       "      <td>CSE</td>\n",
       "    </tr>\n",
       "    <tr>\n",
       "      <th>2</th>\n",
       "      <td>Riad</td>\n",
       "      <td>EEE</td>\n",
       "    </tr>\n",
       "  </tbody>\n",
       "</table>\n",
       "</div>"
      ],
      "text/plain": [
       "     Name Department\n",
       "0  Kawsar        EEE\n",
       "1  Tasnim        CSE\n",
       "2    Riad        EEE"
      ]
     },
     "metadata": {},
     "output_type": "display_data"
    }
   ],
   "source": [
    "df_B = pd.DataFrame({\"Name\":[\"Kawsar\", \"Tasnim\", \"Riad\"], \n",
    "                     \"Department\": [\"EEE\", \"CSE\", \"EEE\"]})\n",
    "\n",
    "display(df_B)"
   ]
  },
  {
   "cell_type": "code",
   "execution_count": 63,
   "id": "cb43dc0f",
   "metadata": {},
   "outputs": [
    {
     "data": {
      "text/html": [
       "<div>\n",
       "<style scoped>\n",
       "    .dataframe tbody tr th:only-of-type {\n",
       "        vertical-align: middle;\n",
       "    }\n",
       "\n",
       "    .dataframe tbody tr th {\n",
       "        vertical-align: top;\n",
       "    }\n",
       "\n",
       "    .dataframe thead th {\n",
       "        text-align: right;\n",
       "    }\n",
       "</style>\n",
       "<table border=\"1\" class=\"dataframe\">\n",
       "  <thead>\n",
       "    <tr style=\"text-align: right;\">\n",
       "      <th></th>\n",
       "      <th>Address</th>\n",
       "      <th>University</th>\n",
       "    </tr>\n",
       "    <tr>\n",
       "      <th>Name</th>\n",
       "      <th></th>\n",
       "      <th></th>\n",
       "    </tr>\n",
       "  </thead>\n",
       "  <tbody>\n",
       "    <tr>\n",
       "      <th>Kawsar</th>\n",
       "      <td>Houston</td>\n",
       "      <td>USF</td>\n",
       "    </tr>\n",
       "    <tr>\n",
       "      <th>Tasnim</th>\n",
       "      <td>Boise</td>\n",
       "      <td>BSU</td>\n",
       "    </tr>\n",
       "    <tr>\n",
       "      <th>Jakir</th>\n",
       "      <td>Tampa</td>\n",
       "      <td>USF</td>\n",
       "    </tr>\n",
       "  </tbody>\n",
       "</table>\n",
       "</div>"
      ],
      "text/plain": [
       "        Address University\n",
       "Name                      \n",
       "Kawsar  Houston        USF\n",
       "Tasnim    Boise        BSU\n",
       "Jakir     Tampa        USF"
      ]
     },
     "execution_count": 63,
     "metadata": {},
     "output_type": "execute_result"
    }
   ],
   "source": [
    "df_A.set_index('Name')"
   ]
  },
  {
   "cell_type": "code",
   "execution_count": 64,
   "id": "8dd9a4f3",
   "metadata": {},
   "outputs": [
    {
     "data": {
      "text/html": [
       "<div>\n",
       "<style scoped>\n",
       "    .dataframe tbody tr th:only-of-type {\n",
       "        vertical-align: middle;\n",
       "    }\n",
       "\n",
       "    .dataframe tbody tr th {\n",
       "        vertical-align: top;\n",
       "    }\n",
       "\n",
       "    .dataframe thead th {\n",
       "        text-align: right;\n",
       "    }\n",
       "</style>\n",
       "<table border=\"1\" class=\"dataframe\">\n",
       "  <thead>\n",
       "    <tr style=\"text-align: right;\">\n",
       "      <th></th>\n",
       "      <th>Department</th>\n",
       "    </tr>\n",
       "    <tr>\n",
       "      <th>Name</th>\n",
       "      <th></th>\n",
       "    </tr>\n",
       "  </thead>\n",
       "  <tbody>\n",
       "    <tr>\n",
       "      <th>Kawsar</th>\n",
       "      <td>EEE</td>\n",
       "    </tr>\n",
       "    <tr>\n",
       "      <th>Tasnim</th>\n",
       "      <td>CSE</td>\n",
       "    </tr>\n",
       "    <tr>\n",
       "      <th>Riad</th>\n",
       "      <td>EEE</td>\n",
       "    </tr>\n",
       "  </tbody>\n",
       "</table>\n",
       "</div>"
      ],
      "text/plain": [
       "       Department\n",
       "Name             \n",
       "Kawsar        EEE\n",
       "Tasnim        CSE\n",
       "Riad          EEE"
      ]
     },
     "execution_count": 64,
     "metadata": {},
     "output_type": "execute_result"
    }
   ],
   "source": [
    "df_B.set_index('Name')"
   ]
  },
  {
   "cell_type": "code",
   "execution_count": 65,
   "id": "501cd7c0",
   "metadata": {},
   "outputs": [],
   "source": [
    "df_inner = df_A.merge(df_B, how='inner', left_index=True, right_index=True)"
   ]
  },
  {
   "cell_type": "code",
   "execution_count": 66,
   "id": "6dd2db4f",
   "metadata": {},
   "outputs": [
    {
     "data": {
      "text/plain": [
       "(3, 5)"
      ]
     },
     "execution_count": 66,
     "metadata": {},
     "output_type": "execute_result"
    }
   ],
   "source": [
    "df_inner.shape"
   ]
  },
  {
   "cell_type": "code",
   "execution_count": 67,
   "id": "ea42a0da",
   "metadata": {},
   "outputs": [
    {
     "data": {
      "text/html": [
       "<div>\n",
       "<style scoped>\n",
       "    .dataframe tbody tr th:only-of-type {\n",
       "        vertical-align: middle;\n",
       "    }\n",
       "\n",
       "    .dataframe tbody tr th {\n",
       "        vertical-align: top;\n",
       "    }\n",
       "\n",
       "    .dataframe thead th {\n",
       "        text-align: right;\n",
       "    }\n",
       "</style>\n",
       "<table border=\"1\" class=\"dataframe\">\n",
       "  <thead>\n",
       "    <tr style=\"text-align: right;\">\n",
       "      <th></th>\n",
       "      <th>Name_x</th>\n",
       "      <th>Address</th>\n",
       "      <th>University</th>\n",
       "      <th>Name_y</th>\n",
       "      <th>Department</th>\n",
       "    </tr>\n",
       "  </thead>\n",
       "  <tbody>\n",
       "    <tr>\n",
       "      <th>0</th>\n",
       "      <td>Kawsar</td>\n",
       "      <td>Houston</td>\n",
       "      <td>USF</td>\n",
       "      <td>Kawsar</td>\n",
       "      <td>EEE</td>\n",
       "    </tr>\n",
       "    <tr>\n",
       "      <th>1</th>\n",
       "      <td>Tasnim</td>\n",
       "      <td>Boise</td>\n",
       "      <td>BSU</td>\n",
       "      <td>Tasnim</td>\n",
       "      <td>CSE</td>\n",
       "    </tr>\n",
       "    <tr>\n",
       "      <th>2</th>\n",
       "      <td>Jakir</td>\n",
       "      <td>Tampa</td>\n",
       "      <td>USF</td>\n",
       "      <td>Riad</td>\n",
       "      <td>EEE</td>\n",
       "    </tr>\n",
       "  </tbody>\n",
       "</table>\n",
       "</div>"
      ],
      "text/plain": [
       "   Name_x  Address University  Name_y Department\n",
       "0  Kawsar  Houston        USF  Kawsar        EEE\n",
       "1  Tasnim    Boise        BSU  Tasnim        CSE\n",
       "2   Jakir    Tampa        USF    Riad        EEE"
      ]
     },
     "metadata": {},
     "output_type": "display_data"
    }
   ],
   "source": [
    "display(df_inner)"
   ]
  },
  {
   "cell_type": "code",
   "execution_count": 68,
   "id": "50c03759",
   "metadata": {},
   "outputs": [],
   "source": [
    "df_inner_1 = df_A.merge(df_B, how='inner')"
   ]
  },
  {
   "cell_type": "code",
   "execution_count": 69,
   "id": "274395f8",
   "metadata": {},
   "outputs": [
    {
     "data": {
      "text/html": [
       "<div>\n",
       "<style scoped>\n",
       "    .dataframe tbody tr th:only-of-type {\n",
       "        vertical-align: middle;\n",
       "    }\n",
       "\n",
       "    .dataframe tbody tr th {\n",
       "        vertical-align: top;\n",
       "    }\n",
       "\n",
       "    .dataframe thead th {\n",
       "        text-align: right;\n",
       "    }\n",
       "</style>\n",
       "<table border=\"1\" class=\"dataframe\">\n",
       "  <thead>\n",
       "    <tr style=\"text-align: right;\">\n",
       "      <th></th>\n",
       "      <th>Name</th>\n",
       "      <th>Address</th>\n",
       "      <th>University</th>\n",
       "      <th>Department</th>\n",
       "    </tr>\n",
       "  </thead>\n",
       "  <tbody>\n",
       "    <tr>\n",
       "      <th>0</th>\n",
       "      <td>Kawsar</td>\n",
       "      <td>Houston</td>\n",
       "      <td>USF</td>\n",
       "      <td>EEE</td>\n",
       "    </tr>\n",
       "    <tr>\n",
       "      <th>1</th>\n",
       "      <td>Tasnim</td>\n",
       "      <td>Boise</td>\n",
       "      <td>BSU</td>\n",
       "      <td>CSE</td>\n",
       "    </tr>\n",
       "  </tbody>\n",
       "</table>\n",
       "</div>"
      ],
      "text/plain": [
       "     Name  Address University Department\n",
       "0  Kawsar  Houston        USF        EEE\n",
       "1  Tasnim    Boise        BSU        CSE"
      ]
     },
     "metadata": {},
     "output_type": "display_data"
    }
   ],
   "source": [
    "display(df_inner_1)"
   ]
  },
  {
   "cell_type": "code",
   "execution_count": 70,
   "id": "48b74e9c",
   "metadata": {},
   "outputs": [
    {
     "data": {
      "text/html": [
       "<div>\n",
       "<style scoped>\n",
       "    .dataframe tbody tr th:only-of-type {\n",
       "        vertical-align: middle;\n",
       "    }\n",
       "\n",
       "    .dataframe tbody tr th {\n",
       "        vertical-align: top;\n",
       "    }\n",
       "\n",
       "    .dataframe thead th {\n",
       "        text-align: right;\n",
       "    }\n",
       "</style>\n",
       "<table border=\"1\" class=\"dataframe\">\n",
       "  <thead>\n",
       "    <tr style=\"text-align: right;\">\n",
       "      <th></th>\n",
       "      <th>character</th>\n",
       "      <th>name</th>\n",
       "      <th>BD</th>\n",
       "      <th>character_name</th>\n",
       "      <th>gender</th>\n",
       "    </tr>\n",
       "  </thead>\n",
       "  <tbody>\n",
       "    <tr>\n",
       "      <th>0</th>\n",
       "      <td>RG</td>\n",
       "      <td>JA</td>\n",
       "      <td>1969-02-11</td>\n",
       "      <td>RG</td>\n",
       "      <td>f</td>\n",
       "    </tr>\n",
       "    <tr>\n",
       "      <th>1</th>\n",
       "      <td>RoG</td>\n",
       "      <td>DS</td>\n",
       "      <td>1966-11-02</td>\n",
       "      <td>RoG</td>\n",
       "      <td>m</td>\n",
       "    </tr>\n",
       "    <tr>\n",
       "      <th>2</th>\n",
       "      <td>PB</td>\n",
       "      <td>LK</td>\n",
       "      <td>1963-07-30</td>\n",
       "      <td>PB</td>\n",
       "      <td>f</td>\n",
       "    </tr>\n",
       "    <tr>\n",
       "      <th>3</th>\n",
       "      <td>JT</td>\n",
       "      <td>ML</td>\n",
       "      <td>1967-07-25</td>\n",
       "      <td>JT</td>\n",
       "      <td>m</td>\n",
       "    </tr>\n",
       "    <tr>\n",
       "      <th>4</th>\n",
       "      <td>MG</td>\n",
       "      <td>CC</td>\n",
       "      <td>1964-06-15</td>\n",
       "      <td>MG</td>\n",
       "      <td>f</td>\n",
       "    </tr>\n",
       "    <tr>\n",
       "      <th>5</th>\n",
       "      <td>CB</td>\n",
       "      <td>MP</td>\n",
       "      <td>1969-08-19</td>\n",
       "      <td>CB</td>\n",
       "      <td>m</td>\n",
       "    </tr>\n",
       "  </tbody>\n",
       "</table>\n",
       "</div>"
      ],
      "text/plain": [
       "  character name          BD character_name gender\n",
       "0        RG   JA  1969-02-11             RG      f\n",
       "1       RoG   DS  1966-11-02            RoG      m\n",
       "2        PB   LK  1963-07-30             PB      f\n",
       "3        JT   ML  1967-07-25             JT      m\n",
       "4        MG   CC  1964-06-15             MG      f\n",
       "5        CB   MP  1969-08-19             CB      m"
      ]
     },
     "metadata": {},
     "output_type": "display_data"
    }
   ],
   "source": [
    "friends_left = friends_s1.merge(friends_s2, how='left', left_on='character', right_on='character_name')\n",
    "display(friends_left)"
   ]
  },
  {
   "cell_type": "code",
   "execution_count": 71,
   "id": "fcfe88ba",
   "metadata": {},
   "outputs": [
    {
     "data": {
      "text/plain": [
       "(6, 5)"
      ]
     },
     "execution_count": 71,
     "metadata": {},
     "output_type": "execute_result"
    }
   ],
   "source": [
    "friends_left.shape"
   ]
  },
  {
   "cell_type": "code",
   "execution_count": 72,
   "id": "658c6752",
   "metadata": {},
   "outputs": [],
   "source": [
    "df_inner_2 = df_A.merge(df_B, how='inner', left_index=True, right_index=True)"
   ]
  },
  {
   "cell_type": "code",
   "execution_count": 73,
   "id": "787052e6",
   "metadata": {},
   "outputs": [
    {
     "data": {
      "text/html": [
       "<div>\n",
       "<style scoped>\n",
       "    .dataframe tbody tr th:only-of-type {\n",
       "        vertical-align: middle;\n",
       "    }\n",
       "\n",
       "    .dataframe tbody tr th {\n",
       "        vertical-align: top;\n",
       "    }\n",
       "\n",
       "    .dataframe thead th {\n",
       "        text-align: right;\n",
       "    }\n",
       "</style>\n",
       "<table border=\"1\" class=\"dataframe\">\n",
       "  <thead>\n",
       "    <tr style=\"text-align: right;\">\n",
       "      <th></th>\n",
       "      <th>Name_x</th>\n",
       "      <th>Address</th>\n",
       "      <th>University</th>\n",
       "      <th>Name_y</th>\n",
       "      <th>Department</th>\n",
       "    </tr>\n",
       "  </thead>\n",
       "  <tbody>\n",
       "    <tr>\n",
       "      <th>0</th>\n",
       "      <td>Kawsar</td>\n",
       "      <td>Houston</td>\n",
       "      <td>USF</td>\n",
       "      <td>Kawsar</td>\n",
       "      <td>EEE</td>\n",
       "    </tr>\n",
       "    <tr>\n",
       "      <th>1</th>\n",
       "      <td>Tasnim</td>\n",
       "      <td>Boise</td>\n",
       "      <td>BSU</td>\n",
       "      <td>Tasnim</td>\n",
       "      <td>CSE</td>\n",
       "    </tr>\n",
       "    <tr>\n",
       "      <th>2</th>\n",
       "      <td>Jakir</td>\n",
       "      <td>Tampa</td>\n",
       "      <td>USF</td>\n",
       "      <td>Riad</td>\n",
       "      <td>EEE</td>\n",
       "    </tr>\n",
       "  </tbody>\n",
       "</table>\n",
       "</div>"
      ],
      "text/plain": [
       "   Name_x  Address University  Name_y Department\n",
       "0  Kawsar  Houston        USF  Kawsar        EEE\n",
       "1  Tasnim    Boise        BSU  Tasnim        CSE\n",
       "2   Jakir    Tampa        USF    Riad        EEE"
      ]
     },
     "metadata": {},
     "output_type": "display_data"
    }
   ],
   "source": [
    "display(df_inner_2)"
   ]
  },
  {
   "cell_type": "code",
   "execution_count": 74,
   "id": "29dec095",
   "metadata": {},
   "outputs": [],
   "source": [
    "friends_right = friends_s1.merge(friends_s2, how='right', left_on='character', right_on='character_name')"
   ]
  },
  {
   "cell_type": "code",
   "execution_count": 75,
   "id": "b3d159a8",
   "metadata": {},
   "outputs": [
    {
     "data": {
      "text/html": [
       "<div>\n",
       "<style scoped>\n",
       "    .dataframe tbody tr th:only-of-type {\n",
       "        vertical-align: middle;\n",
       "    }\n",
       "\n",
       "    .dataframe tbody tr th {\n",
       "        vertical-align: top;\n",
       "    }\n",
       "\n",
       "    .dataframe thead th {\n",
       "        text-align: right;\n",
       "    }\n",
       "</style>\n",
       "<table border=\"1\" class=\"dataframe\">\n",
       "  <thead>\n",
       "    <tr style=\"text-align: right;\">\n",
       "      <th></th>\n",
       "      <th>character</th>\n",
       "      <th>name</th>\n",
       "      <th>BD</th>\n",
       "      <th>character_name</th>\n",
       "      <th>gender</th>\n",
       "    </tr>\n",
       "  </thead>\n",
       "  <tbody>\n",
       "    <tr>\n",
       "      <th>0</th>\n",
       "      <td>RG</td>\n",
       "      <td>JA</td>\n",
       "      <td>1969-02-11</td>\n",
       "      <td>RG</td>\n",
       "      <td>f</td>\n",
       "    </tr>\n",
       "    <tr>\n",
       "      <th>1</th>\n",
       "      <td>RoG</td>\n",
       "      <td>DS</td>\n",
       "      <td>1966-11-02</td>\n",
       "      <td>RoG</td>\n",
       "      <td>m</td>\n",
       "    </tr>\n",
       "    <tr>\n",
       "      <th>2</th>\n",
       "      <td>PB</td>\n",
       "      <td>LK</td>\n",
       "      <td>1963-07-30</td>\n",
       "      <td>PB</td>\n",
       "      <td>f</td>\n",
       "    </tr>\n",
       "    <tr>\n",
       "      <th>3</th>\n",
       "      <td>JT</td>\n",
       "      <td>ML</td>\n",
       "      <td>1967-07-25</td>\n",
       "      <td>JT</td>\n",
       "      <td>m</td>\n",
       "    </tr>\n",
       "    <tr>\n",
       "      <th>4</th>\n",
       "      <td>MG</td>\n",
       "      <td>CC</td>\n",
       "      <td>1964-06-15</td>\n",
       "      <td>MG</td>\n",
       "      <td>f</td>\n",
       "    </tr>\n",
       "    <tr>\n",
       "      <th>5</th>\n",
       "      <td>CB</td>\n",
       "      <td>MP</td>\n",
       "      <td>1969-08-19</td>\n",
       "      <td>CB</td>\n",
       "      <td>m</td>\n",
       "    </tr>\n",
       "    <tr>\n",
       "      <th>6</th>\n",
       "      <td>NaN</td>\n",
       "      <td>NaN</td>\n",
       "      <td>NaN</td>\n",
       "      <td>RB</td>\n",
       "      <td>m</td>\n",
       "    </tr>\n",
       "    <tr>\n",
       "      <th>7</th>\n",
       "      <td>NaN</td>\n",
       "      <td>NaN</td>\n",
       "      <td>NaN</td>\n",
       "      <td>G</td>\n",
       "      <td>m</td>\n",
       "    </tr>\n",
       "    <tr>\n",
       "      <th>8</th>\n",
       "      <td>NaN</td>\n",
       "      <td>NaN</td>\n",
       "      <td>NaN</td>\n",
       "      <td>EW</td>\n",
       "      <td>f</td>\n",
       "    </tr>\n",
       "    <tr>\n",
       "      <th>9</th>\n",
       "      <td>NaN</td>\n",
       "      <td>NaN</td>\n",
       "      <td>NaN</td>\n",
       "      <td>MH</td>\n",
       "      <td>m</td>\n",
       "    </tr>\n",
       "  </tbody>\n",
       "</table>\n",
       "</div>"
      ],
      "text/plain": [
       "  character name          BD character_name gender\n",
       "0        RG   JA  1969-02-11             RG      f\n",
       "1       RoG   DS  1966-11-02            RoG      m\n",
       "2        PB   LK  1963-07-30             PB      f\n",
       "3        JT   ML  1967-07-25             JT      m\n",
       "4        MG   CC  1964-06-15             MG      f\n",
       "5        CB   MP  1969-08-19             CB      m\n",
       "6       NaN  NaN         NaN             RB      m\n",
       "7       NaN  NaN         NaN              G      m\n",
       "8       NaN  NaN         NaN             EW      f\n",
       "9       NaN  NaN         NaN             MH      m"
      ]
     },
     "metadata": {},
     "output_type": "display_data"
    }
   ],
   "source": [
    "display(friends_right)"
   ]
  },
  {
   "cell_type": "code",
   "execution_count": 76,
   "id": "f2805ac8",
   "metadata": {},
   "outputs": [],
   "source": [
    "friends_outer = friends_s1.merge(friends_s2, how='outer', left_on='character', right_on='character_name')"
   ]
  },
  {
   "cell_type": "code",
   "execution_count": 77,
   "id": "43aa6e4e",
   "metadata": {},
   "outputs": [
    {
     "data": {
      "text/html": [
       "<div>\n",
       "<style scoped>\n",
       "    .dataframe tbody tr th:only-of-type {\n",
       "        vertical-align: middle;\n",
       "    }\n",
       "\n",
       "    .dataframe tbody tr th {\n",
       "        vertical-align: top;\n",
       "    }\n",
       "\n",
       "    .dataframe thead th {\n",
       "        text-align: right;\n",
       "    }\n",
       "</style>\n",
       "<table border=\"1\" class=\"dataframe\">\n",
       "  <thead>\n",
       "    <tr style=\"text-align: right;\">\n",
       "      <th></th>\n",
       "      <th>character</th>\n",
       "      <th>name</th>\n",
       "      <th>BD</th>\n",
       "      <th>character_name</th>\n",
       "      <th>gender</th>\n",
       "    </tr>\n",
       "  </thead>\n",
       "  <tbody>\n",
       "    <tr>\n",
       "      <th>0</th>\n",
       "      <td>RG</td>\n",
       "      <td>JA</td>\n",
       "      <td>1969-02-11</td>\n",
       "      <td>RG</td>\n",
       "      <td>f</td>\n",
       "    </tr>\n",
       "    <tr>\n",
       "      <th>1</th>\n",
       "      <td>RoG</td>\n",
       "      <td>DS</td>\n",
       "      <td>1966-11-02</td>\n",
       "      <td>RoG</td>\n",
       "      <td>m</td>\n",
       "    </tr>\n",
       "    <tr>\n",
       "      <th>2</th>\n",
       "      <td>PB</td>\n",
       "      <td>LK</td>\n",
       "      <td>1963-07-30</td>\n",
       "      <td>PB</td>\n",
       "      <td>f</td>\n",
       "    </tr>\n",
       "    <tr>\n",
       "      <th>3</th>\n",
       "      <td>JT</td>\n",
       "      <td>ML</td>\n",
       "      <td>1967-07-25</td>\n",
       "      <td>JT</td>\n",
       "      <td>m</td>\n",
       "    </tr>\n",
       "    <tr>\n",
       "      <th>4</th>\n",
       "      <td>MG</td>\n",
       "      <td>CC</td>\n",
       "      <td>1964-06-15</td>\n",
       "      <td>MG</td>\n",
       "      <td>f</td>\n",
       "    </tr>\n",
       "    <tr>\n",
       "      <th>5</th>\n",
       "      <td>CB</td>\n",
       "      <td>MP</td>\n",
       "      <td>1969-08-19</td>\n",
       "      <td>CB</td>\n",
       "      <td>m</td>\n",
       "    </tr>\n",
       "    <tr>\n",
       "      <th>6</th>\n",
       "      <td>NaN</td>\n",
       "      <td>NaN</td>\n",
       "      <td>NaN</td>\n",
       "      <td>RB</td>\n",
       "      <td>m</td>\n",
       "    </tr>\n",
       "    <tr>\n",
       "      <th>7</th>\n",
       "      <td>NaN</td>\n",
       "      <td>NaN</td>\n",
       "      <td>NaN</td>\n",
       "      <td>G</td>\n",
       "      <td>m</td>\n",
       "    </tr>\n",
       "    <tr>\n",
       "      <th>8</th>\n",
       "      <td>NaN</td>\n",
       "      <td>NaN</td>\n",
       "      <td>NaN</td>\n",
       "      <td>EW</td>\n",
       "      <td>f</td>\n",
       "    </tr>\n",
       "    <tr>\n",
       "      <th>9</th>\n",
       "      <td>NaN</td>\n",
       "      <td>NaN</td>\n",
       "      <td>NaN</td>\n",
       "      <td>MH</td>\n",
       "      <td>m</td>\n",
       "    </tr>\n",
       "  </tbody>\n",
       "</table>\n",
       "</div>"
      ],
      "text/plain": [
       "  character name          BD character_name gender\n",
       "0        RG   JA  1969-02-11             RG      f\n",
       "1       RoG   DS  1966-11-02            RoG      m\n",
       "2        PB   LK  1963-07-30             PB      f\n",
       "3        JT   ML  1967-07-25             JT      m\n",
       "4        MG   CC  1964-06-15             MG      f\n",
       "5        CB   MP  1969-08-19             CB      m\n",
       "6       NaN  NaN         NaN             RB      m\n",
       "7       NaN  NaN         NaN              G      m\n",
       "8       NaN  NaN         NaN             EW      f\n",
       "9       NaN  NaN         NaN             MH      m"
      ]
     },
     "metadata": {},
     "output_type": "display_data"
    }
   ],
   "source": [
    "display(friends_outer)"
   ]
  },
  {
   "cell_type": "code",
   "execution_count": 78,
   "id": "f4eb17ef",
   "metadata": {},
   "outputs": [
    {
     "data": {
      "text/plain": [
       "(10, 5)"
      ]
     },
     "execution_count": 78,
     "metadata": {},
     "output_type": "execute_result"
    }
   ],
   "source": [
    "friends_outer.shape"
   ]
  },
  {
   "cell_type": "code",
   "execution_count": null,
   "id": "c8960dc1",
   "metadata": {},
   "outputs": [],
   "source": []
  }
 ],
 "metadata": {
  "kernelspec": {
   "display_name": "Python 3",
   "language": "python",
   "name": "python3"
  },
  "language_info": {
   "codemirror_mode": {
    "name": "ipython",
    "version": 3
   },
   "file_extension": ".py",
   "mimetype": "text/x-python",
   "name": "python",
   "nbconvert_exporter": "python",
   "pygments_lexer": "ipython3",
   "version": "3.8.8"
  }
 },
 "nbformat": 4,
 "nbformat_minor": 5
}
